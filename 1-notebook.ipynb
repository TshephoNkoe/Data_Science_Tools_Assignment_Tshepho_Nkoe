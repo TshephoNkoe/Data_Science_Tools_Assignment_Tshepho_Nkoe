In this notebook, I summarize key tools, languages, and libraries used by data scientists today. I will also include examples of arithmetic operations and unit conversions.
Some of the popular languages that Data Scientists use are:

1. Python  
2. R  
3. SQL  
4. Julia  
5. Scala

Some of the commonly used libraries used by Data Scientists include:

1. Pandas  
2. NumPy  
3. Matplotlib  
4. Scikit-learn  
5. TensorFlow  
6. ggplot2 (R)

| Tool          | Description                     |
|---------------|---------------------------------|
| Jupyter       | Interactive computing notebook  |
| RStudio       | IDE for R programming           |
| Apache Spark  | Big data processing engine      |
| VS Code       | Lightweight code editor         |

### Examples of evaluating arithmetic expressions in Python

# This will multiply and then add numbers
(3 * 4) + 5

# Convert 200 minutes to hours
minutes = 200
hours = minutes / 60
hours

## Objectives:

- List popular languages for Data Science  
- List commonly used libraries  
- Create tables in markdown  
- Perform basic arithmetic in code cells  
- Share notebook via GitHub

**Author:** Tshepho Nkoe