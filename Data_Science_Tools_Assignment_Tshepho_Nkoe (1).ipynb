{
 "cells": [
  {
   "cell_type": "markdown",
   "id": "88054c5d",
   "metadata": {},
   "source": [
    "# Data Science Tools and Ecosystem"
   ]
  },
  {
   "cell_type": "markdown",
   "id": "921ee664",
   "metadata": {},
   "source": []
  },
  {
   "cell_type": "code",
   "execution_count": null,
   "id": "bc1dbfc6",
   "metadata": {},
   "outputs": [],
   "source": []
  },
  {
   "cell_type": "markdown",
   "id": "c33b3a8c",
   "metadata": {},
   "source": []
  },
  {
   "cell_type": "code",
   "execution_count": null,
   "id": "034c6f8f",
   "metadata": {},
   "outputs": [],
   "source": []
  },
  {
   "cell_type": "markdown",
   "id": "bc68cfcb",
   "metadata": {},
   "source": [
    "In this notebook, I summarize key tools, languages, and libraries used by data scientists today. I will also include examples of arithmetic operations and unit conversions."
   ]
  },
  {
   "cell_type": "markdown",
   "id": "db6a3a4a",
   "metadata": {},
   "source": [
    "Some of the popular languages that Data Scientists use are:\n",
    "\n",
    "1. Python  \n",
    "2. R  \n",
    "3. SQL  \n",
    "4. Julia  \n",
    "5. Scala"
   ]
  },
  {
   "cell_type": "markdown",
   "id": "b8c1b210",
   "metadata": {},
   "source": [
    "Some of the commonly used libraries used by Data Scientists include:\n",
    "\n",
    "1. Pandas  \n",
    "2. NumPy  \n",
    "3. Matplotlib  \n",
    "4. Scikit-learn  \n",
    "5. TensorFlow  \n",
    "6. ggplot2 (R)"
   ]
  },
  {
   "cell_type": "markdown",
   "id": "26ebd336",
   "metadata": {},
   "source": [
    "| Tool          | Description                     |\n",
    "|---------------|---------------------------------|\n",
    "| Jupyter       | Interactive computing notebook  |\n",
    "| RStudio       | IDE for R programming           |\n",
    "| Apache Spark  | Big data processing engine      |\n",
    "| VS Code       | Lightweight code editor         |"
   ]
  },
  {
   "cell_type": "markdown",
   "id": "f02308fb",
   "metadata": {},
   "source": [
    "### Examples of evaluating arithmetic expressions in Python"
   ]
  },
  {
   "cell_type": "code",
   "execution_count": null,
   "id": "6a993c9f",
   "metadata": {},
   "outputs": [],
   "source": [
    "(3 * 4) + 5"
   ]
  },
  {
   "cell_type": "code",
   "execution_count": null,
   "id": "6c8bd8b7",
   "metadata": {},
   "outputs": [],
   "source": [
    "# Convert 200 minutes to hours\n",
    "minutes = 200\n",
    "hours = minutes / 60\n",
    "hours"
   ]
  },
  {
   "cell_type": "markdown",
   "id": "c8843507",
   "metadata": {},
   "source": [
    "## Objectives:\n",
    "\n",
    "- List popular languages for Data Science  \n",
    "- List commonly used libraries  \n",
    "- Create tables in markdown  \n",
    "- Perform basic arithmetic in code cells  \n",
    "- Share notebook via GitHub"
   ]
  },
  {
   "cell_type": "markdown",
   "id": "e63fe928",
   "metadata": {},
   "source": [
    "**Author:** Tshepho Nkoe"
   ]
  },
  {
   "cell_type": "markdown",
   "id": "db47d4f5",
   "metadata": {},
   "source": [
    "Notebook uploaded to GitHub and screenshot of this page submitted as required."
   ]
  }
 ],
 "metadata": {
  "language_info": {
   "name": "python"
  }
 },
 "nbformat": 4,
 "nbformat_minor": 5
}
